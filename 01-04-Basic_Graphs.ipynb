{
 "cells": [
  {
   "cell_type": "code",
   "execution_count": 1,
   "metadata": {},
   "outputs": [],
   "source": [
    "import networkx as nx\n",
    "import matplotlib.pyplot as plt\n",
    "import random\n",
    "import sys"
   ]
  },
  {
   "cell_type": "code",
   "execution_count": 2,
   "metadata": {},
   "outputs": [],
   "source": [
    "def create_network(cities, costs, num_edges):\n",
    "    G = nx.Graph()\n",
    "    for i in Cities:\n",
    "        G.add_node(i)\n",
    "    while(G.number_of_edges() < num_edges):\n",
    "        c1 = random.choice(list(G.nodes()))\n",
    "        c2 = random.choice(list(G.nodes()))\n",
    "        if(c1 != c2 and G.has_edge(c1,c2)==0):\n",
    "            w = random.choice(costs)\n",
    "            G.add_edge(c1,c2,weight=w)\n",
    "    return G"
   ]
  },
  {
   "cell_type": "code",
   "execution_count": 3,
   "metadata": {},
   "outputs": [],
   "source": [
    "def add_random_edge(G, costs):\n",
    "    c1 = random.choice(list(G.nodes()))\n",
    "    c2 = random.choice(list(G.nodes()))\n",
    "    if(c1 != c2 and G.has_edge(c1,c2)==0):\n",
    "        w = random.choice(costs)\n",
    "        G.add_edge(c1,c2,weight=w)\n",
    "    return G"
   ]
  },
  {
   "cell_type": "code",
   "execution_count": 4,
   "metadata": {},
   "outputs": [],
   "source": [
    "Cities = ['Delhi', 'Bangalore', 'Hyderabad', 'Ahmadabad', 'Channai', 'Kolkata', 'Surat', 'Pune', 'Jaipur']"
   ]
  },
  {
   "cell_type": "code",
   "execution_count": 5,
   "metadata": {},
   "outputs": [
    {
     "name": "stdout",
     "output_type": "stream",
     "text": [
      "[100, 200, 300, 400, 500, 600, 700, 800, 900, 1000, 1100, 1200, 1300, 1400, 1500, 1600, 1700, 1800, 1900, 2000]\n"
     ]
    }
   ],
   "source": [
    "costs = []\n",
    "value = 100\n",
    "\n",
    "while value <= 2000:\n",
    "    costs.append(value)\n",
    "    value = value + 100\n",
    "\n",
    "print(costs)"
   ]
  },
  {
   "cell_type": "code",
   "execution_count": 6,
   "metadata": {},
   "outputs": [],
   "source": [
    "G = create_network(Cities, costs, 0)"
   ]
  },
  {
   "cell_type": "code",
   "execution_count": 7,
   "metadata": {},
   "outputs": [
    {
     "data": {
      "image/png": "[encoded data removed]",
      "text/plain": [
       "<Figure size 432x288 with 1 Axes>"
      ]
     },
     "metadata": {},
     "output_type": "display_data"
    }
   ],
   "source": [
    "nx.draw(G)"
   ]
  },
  {
   "cell_type": "code",
   "execution_count": 8,
   "metadata": {},
   "outputs": [
    {
     "name": "stdout",
     "output_type": "stream",
     "text": [
      "path length  10000\n"
     ]
    }
   ],
   "source": [
    "try:\n",
    "    l = nx.dijkstra_path_length(G, 'Kolkata', 'Surat')\n",
    "except:\n",
    "    l = 10000\n",
    "print('path length ', l)"
   ]
  },
  {
   "cell_type": "code",
   "execution_count": null,
   "metadata": {},
   "outputs": [],
   "source": []
  },
  {
   "cell_type": "code",
   "execution_count": 9,
   "metadata": {},
   "outputs": [
    {
     "name": "stdout",
     "output_type": "stream",
     "text": [
      "No path\n",
      "No path\n",
      "No path\n",
      "No path\n",
      "No path\n"
     ]
    }
   ],
   "source": [
    "X = [0]\n",
    "Y = [l]\n",
    "for t in range(1,10000):\n",
    "    add_random_edge(G, costs)\n",
    "    X.append(t)\n",
    "    try:\n",
    "        l = nx.dijkstra_path_length(G, 'Kolkata', 'Surat')\n",
    "        Y.append(l)\n",
    "        break\n",
    "    except:\n",
    "        l = 10000\n",
    "        Y.append(10000)\n",
    "        print('No path')"
   ]
  },
  {
   "cell_type": "code",
   "execution_count": 10,
   "metadata": {},
   "outputs": [
    {
     "data": {
      "text/plain": [
       "[<matplotlib.lines.Line2D at 0x16e5bd0c208>]"
      ]
     },
     "execution_count": 10,
     "metadata": {},
     "output_type": "execute_result"
    },
    {
     "data": {
      "image/png": "[encoded data removed]",
      "text/plain": [
       "<Figure size 432x288 with 1 Axes>"
      ]
     },
     "metadata": {
      "needs_background": "light"
     },
     "output_type": "display_data"
    }
   ],
   "source": [
    "plt.xlabel('Time')\n",
    "plt.ylabel('Travelling Cost')\n",
    "plt.title('Change in travelling cost as more roads are added')\n",
    "plt.plot(X,Y)"
   ]
  },
  {
   "cell_type": "code",
   "execution_count": null,
   "metadata": {},
   "outputs": [],
   "source": []
  }
 ],
 "metadata": {
  "kernelspec": {
   "display_name": "Python 3",
   "language": "python",
   "name": "python3"
  },
  "language_info": {
   "codemirror_mode": {
    "name": "ipython",
    "version": 3
   },
   "file_extension": ".py",
   "mimetype": "text/x-python",
   "name": "python",
   "nbconvert_exporter": "python",
   "pygments_lexer": "ipython3",
   "version": "3.7.3"
  }
 },
 "nbformat": 4,
 "nbformat_minor": 2
}
